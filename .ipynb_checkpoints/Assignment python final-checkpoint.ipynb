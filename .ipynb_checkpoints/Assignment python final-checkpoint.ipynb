{
 "cells": [
  {
   "cell_type": "code",
   "execution_count": 25,
   "id": "75508ba6",
   "metadata": {},
   "outputs": [
    {
     "name": "stdout",
     "output_type": "stream",
     "text": [
      "1\n",
      "9\n",
      "25\n",
      "49\n",
      "81\n",
      "121\n",
      "169\n",
      "225\n",
      "289\n",
      "361\n"
     ]
    }
   ],
   "source": [
    "#number 1\n",
    "\n",
    "import numpy as np\n",
    "\n",
    "smallest=1\n",
    "largest=21\n",
    "\n",
    "for number in range(smallest, largest):\n",
    "    if (number%2)==1:\n",
    "        \n",
    "        print(number*number)"
   ]
  },
  {
   "cell_type": "code",
   "execution_count": 26,
   "id": "28bbd3b3",
   "metadata": {},
   "outputs": [
    {
     "name": "stdout",
     "output_type": "stream",
     "text": [
      "Enter the number 4\n",
      "the number is not a multiple of 5\n"
     ]
    }
   ],
   "source": [
    "#number 2\n",
    "\n",
    "number = int(input(\"Enter the number \"))\n",
    "\n",
    "if number%5==0:\n",
    "    print(\"the number is a multiple of 5\")\n",
    "else: \n",
    "    print(\"the number is not a multiple of 5\")"
   ]
  },
  {
   "cell_type": "code",
   "execution_count": 86,
   "id": "87149b03",
   "metadata": {},
   "outputs": [
    {
     "name": "stdout",
     "output_type": "stream",
     "text": [
      "Enter the number5\n",
      "5  is a prime number \n"
     ]
    }
   ],
   "source": [
    "# number 3\n",
    "\n",
    "number = int(input(\"Enter the number\"))\n",
    "no=int(1)\n",
    "\n",
    "if number>no:\n",
    "    for prime in (2,number):\n",
    "        if (number%prime)==0:\n",
    "            print(number,\" is not a prime number\")\n",
    "      \n",
    "            break\n",
    "        else:\n",
    "            print(number,\" is a prime number \")\n",
    "            break\n",
    "else:\n",
    "    print(no, \" is not a prime number\")"
   ]
  },
  {
   "cell_type": "code",
   "execution_count": 92,
   "id": "450ff33e",
   "metadata": {},
   "outputs": [
    {
     "name": "stdout",
     "output_type": "stream",
     "text": [
      "enter first digit  4\n",
      "enter second digit  2\n",
      "select an operation\n",
      " 1 - divide, 2 - Multiply, 3 - Add, 4 - Subtract \n",
      "2\n",
      "The answer is 8.0\n"
     ]
    }
   ],
   "source": [
    "#number 4\n",
    "answer=[]\n",
    "operation= []\n",
    "\n",
    "#functions\n",
    "def divide():\n",
    "         answer= number1/number2\n",
    "         print(\"The answer is\", answer)\n",
    "        \n",
    "def multiply():\n",
    "         answer= number1*number2\n",
    "         print(\"The answer is\", answer)\n",
    "\n",
    "def add():\n",
    "         answer= number1+number2\n",
    "         print(\"The answer is\", answer)\n",
    "\n",
    "def subtract():\n",
    "         answer= number1-number2\n",
    "         print(\"The answer is\", answer)\n",
    "        \n",
    "\n",
    "#operations\n",
    "number1 = float(input('enter first digit  '))\n",
    "\n",
    "number2 = float(input('enter second digit  '))\n",
    "\n",
    "print(\"select an operation\")\n",
    "\n",
    "operation = int(input(\" 1 - divide, 2 - Multiply, 3 - Add, 4 - Subtract \\n\"))\n",
    "\n",
    "if operation==1:\n",
    "    divide()\n",
    "    \n",
    "elif operation==2:\n",
    "    multiply()\n",
    "    \n",
    "elif operation==3:\n",
    "    add()\n",
    "\n",
    "elif operation==4:\n",
    "    subtract()\n",
    "\n",
    "else:\n",
    "    print(\"invalid choice\")\n",
    "\n"
   ]
  },
  {
   "cell_type": "code",
   "execution_count": 97,
   "id": "d2dd02f6",
   "metadata": {},
   "outputs": [
    {
     "name": "stdout",
     "output_type": "stream",
     "text": [
      "Africa -> ['Kenya', 'Uganda', 'Tanzania', 'Egypt', 'Tunisia']\n",
      "Asia -> ['China', 'Mongolia', 'Nepal', 'India', 'Japan']\n",
      "Europe -> ['U.K', 'Germany', 'Spain', 'France', 'Turkey']\n"
     ]
    }
   ],
   "source": [
    "#number 5\n",
    "\n",
    "continents = {\"Africa\":[\"Kenya\",\"Uganda\",\"Tanzania\",\"Egypt\",\"Tunisia\"],\"Asia\":[\"China\",\"Mongolia\",\"Nepal\",\"India\",\"Japan\"]\n",
    "              ,\"Europe\":[\"U.K\",\"Germany\",\"Spain\",\"France\",\"Turkey\"]}\n",
    "\n",
    "for countries in continents:\n",
    "        print(countries, \"->\" ,continents[countries])"
   ]
  }
 ],
 "metadata": {
  "kernelspec": {
   "display_name": "Python 3 (ipykernel)",
   "language": "python",
   "name": "python3"
  },
  "language_info": {
   "codemirror_mode": {
    "name": "ipython",
    "version": 3
   },
   "file_extension": ".py",
   "mimetype": "text/x-python",
   "name": "python",
   "nbconvert_exporter": "python",
   "pygments_lexer": "ipython3",
   "version": "3.9.7"
  }
 },
 "nbformat": 4,
 "nbformat_minor": 5
}
